{
  "cells": [
    {
      "cell_type": "markdown",
      "source": [
        "# ---------------------------- Transform Real Estate Table Units ------------------------\n",
        "## Description About Data :\n",
        "### UniqueID: A unique identifier for each property (integer values, no missing data).\n",
        "### PropertyAddress: The address of the property (string values, 29 missing entries).\n",
        "### LandUse: The type of land use for the property (string values, no missing data).\n",
        "### SalePrice: The sale price of the property (string values, no missing data, might need cleaning as it's stored as a string).\n",
        "### Unnamed: 4: An unnamed column containing data (likely needs further inspection or removal, all non-null values).\n",
        "### LandValue: The value of the land (numeric values, missing for 30,462 entries).\n",
        "###  BuildingValue: The value of the building on the property (numeric values, missing for 30,462 entries).\n",
        "### TotalValue: The total value of the property (numeric values, missing for 30,462 entries).\n",
        "### Key Statistics:\n",
        "###  LandValue: Mean value is approximately 69,068, with values ranging from 100 to 2.77 million.\n",
        "### BuildingValue: Mean value is approximately 160,784, with values ranging from 0 to 12.97 million.\n",
        "###  TotalValue: Mean value is 232,375, with values ranging from 100 to 13.94 million."
      ],
      "metadata": {
        "nteract": {
          "transient": {
            "deleting": false
          }
        }
      }
    },
    {
      "cell_type": "markdown",
      "source": [],
      "metadata": {
        "nteract": {
          "transient": {
            "deleting": false
          }
        }
      }
    },
    {
      "cell_type": "code",
      "source": [
        "%%pyspark\n",
        "df = spark.read.load('abfss://files@datalake6ojqgxp.dfs.core.windows.net/Units-csv.csv', format='csv'\n",
        "## If header exists uncomment line below\n",
        ", header=True\n",
        ")\n",
        "display(df.limit(10))"
      ],
      "outputs": [
        {
          "output_type": "display_data",
          "data": {
            "application/vnd.livy.statement-meta+json": {
              "spark_pool": "spark6ojqgxp",
              "statement_id": 39,
              "statement_ids": [
                39
              ],
              "state": "finished",
              "livy_statement_state": "available",
              "spark_jobs": null,
              "session_id": "0",
              "normalized_state": "finished",
              "queued_time": "2024-10-02T14:07:03.6588027Z",
              "session_start_time": null,
              "execution_start_time": "2024-10-02T14:07:03.8471325Z",
              "execution_finish_time": "2024-10-02T14:07:05.0805321Z",
              "parent_msg_id": "4bf3db66-b0f4-4d71-b888-9ed6f0b1435a"
            },
            "text/plain": "StatementMeta(spark6ojqgxp, 0, 39, Finished, Available, Finished)"
          },
          "metadata": {}
        },
        {
          "output_type": "display_data",
          "data": {
            "application/vnd.synapse.widget-view+json": {
              "widget_id": "61e70628-a98e-4a21-b180-f30a9c23fec6",
              "widget_type": "Synapse.DataFrame"
            },
            "text/plain": "SynapseWidget(Synapse.DataFrame, 61e70628-a98e-4a21-b180-f30a9c23fec6)"
          },
          "metadata": {}
        }
      ],
      "execution_count": 38,
      "metadata": {
        "microsoft": {
          "language": "python"
        },
        "collapsed": false
      }
    },
    {
      "cell_type": "code",
      "source": [],
      "outputs": [],
      "execution_count": null,
      "metadata": {
        "jupyter": {
          "outputs_hidden": false,
          "source_hidden": false
        },
        "nteract": {
          "transient": {
            "deleting": false
          }
        }
      }
    },
    {
      "cell_type": "markdown",
      "source": [
        "## "
      ],
      "metadata": {
        "nteract": {
          "transient": {
            "deleting": false
          }
        }
      }
    },
    {
      "cell_type": "markdown",
      "source": [
        "## . units.info() Equivalent in PySpark"
      ],
      "metadata": {
        "nteract": {
          "transient": {
            "deleting": false
          }
        }
      }
    },
    {
      "cell_type": "code",
      "source": [
        "# Display the schema of the DataFrame\n",
        "df.printSchema()\n"
      ],
      "outputs": [
        {
          "output_type": "display_data",
          "data": {
            "application/vnd.livy.statement-meta+json": {
              "spark_pool": "spark6ojqgxp",
              "statement_id": 40,
              "statement_ids": [
                40
              ],
              "state": "finished",
              "livy_statement_state": "available",
              "spark_jobs": null,
              "session_id": "0",
              "normalized_state": "finished",
              "queued_time": "2024-10-02T14:07:03.9020681Z",
              "session_start_time": null,
              "execution_start_time": "2024-10-02T14:07:05.2493584Z",
              "execution_finish_time": "2024-10-02T14:07:05.4791825Z",
              "parent_msg_id": "fb43de44-eb05-487b-9a54-a5a600e32707"
            },
            "text/plain": "StatementMeta(spark6ojqgxp, 0, 40, Finished, Available, Finished)"
          },
          "metadata": {}
        },
        {
          "output_type": "stream",
          "name": "stdout",
          "text": [
            "root\n |-- UniqueID : string (nullable = true)\n |-- PropertyAddress: string (nullable = true)\n |-- LandUse: string (nullable = true)\n |-- SalePrice: string (nullable = true)\n |-- SaleDate: string (nullable = true)\n |-- LandValue: string (nullable = true)\n |-- BuildingValue: string (nullable = true)\n |-- TotalValue: string (nullable = true)\n\n"
          ]
        }
      ],
      "execution_count": 39,
      "metadata": {
        "jupyter": {
          "outputs_hidden": false,
          "source_hidden": false
        },
        "nteract": {
          "transient": {
            "deleting": false
          }
        }
      }
    },
    {
      "cell_type": "code",
      "source": [
        "from pyspark.sql.functions import col, sum as sum_\n",
        "\n",
        "# Count the number of missing values in each column\n",
        "df.select([sum_(col(c).isNull().cast(\"int\")).alias(c) for c in df.columns]).show()\n"
      ],
      "outputs": [
        {
          "output_type": "display_data",
          "data": {
            "application/vnd.livy.statement-meta+json": {
              "spark_pool": "spark6ojqgxp",
              "statement_id": 41,
              "statement_ids": [
                41
              ],
              "state": "finished",
              "livy_statement_state": "available",
              "spark_jobs": null,
              "session_id": "0",
              "normalized_state": "finished",
              "queued_time": "2024-10-02T14:07:03.9923476Z",
              "session_start_time": null,
              "execution_start_time": "2024-10-02T14:07:05.6805515Z",
              "execution_finish_time": "2024-10-02T14:07:06.9182114Z",
              "parent_msg_id": "f4c8731a-03fe-4412-b005-82a3ab752c6e"
            },
            "text/plain": "StatementMeta(spark6ojqgxp, 0, 41, Finished, Available, Finished)"
          },
          "metadata": {}
        },
        {
          "output_type": "stream",
          "name": "stdout",
          "text": [
            "+---------+---------------+-------+---------+--------+---------+-------------+----------+\n|UniqueID |PropertyAddress|LandUse|SalePrice|SaleDate|LandValue|BuildingValue|TotalValue|\n+---------+---------------+-------+---------+--------+---------+-------------+----------+\n|        0|             29|      0|        3|       3|    30465|        30468|     30468|\n+---------+---------------+-------+---------+--------+---------+-------------+----------+\n\n"
          ]
        }
      ],
      "execution_count": 40,
      "metadata": {
        "jupyter": {
          "outputs_hidden": false,
          "source_hidden": false
        },
        "nteract": {
          "transient": {
            "deleting": false
          }
        }
      }
    },
    {
      "cell_type": "code",
      "source": [
        "from pyspark.sql.functions import when, count\n",
        "\n",
        "# Count the number of missing and non-missing values in 'PropertyAddress'\n",
        "df.select(col(\"PropertyAddress\").isNull().alias(\"isNull\")).groupBy(\"isNull\").count().show()\n"
      ],
      "outputs": [
        {
          "output_type": "display_data",
          "data": {
            "application/vnd.livy.statement-meta+json": {
              "spark_pool": "spark6ojqgxp",
              "statement_id": 42,
              "statement_ids": [
                42
              ],
              "state": "finished",
              "livy_statement_state": "available",
              "spark_jobs": null,
              "session_id": "0",
              "normalized_state": "finished",
              "queued_time": "2024-10-02T14:07:04.3966727Z",
              "session_start_time": null,
              "execution_start_time": "2024-10-02T14:07:07.1157615Z",
              "execution_finish_time": "2024-10-02T14:07:08.3187233Z",
              "parent_msg_id": "849cda44-17fc-4510-b1c6-a996e6dadfe4"
            },
            "text/plain": "StatementMeta(spark6ojqgxp, 0, 42, Finished, Available, Finished)"
          },
          "metadata": {}
        },
        {
          "output_type": "stream",
          "name": "stdout",
          "text": [
            "+------+-----+\n|isNull|count|\n+------+-----+\n|  true|   29|\n| false|56451|\n+------+-----+\n\n"
          ]
        }
      ],
      "execution_count": 41,
      "metadata": {
        "jupyter": {
          "outputs_hidden": false,
          "source_hidden": false
        },
        "nteract": {
          "transient": {
            "deleting": false
          }
        }
      }
    },
    {
      "cell_type": "code",
      "source": [
        "# Count missing values for 'LandUse'\n",
        "df.select(col(\"LandUse\").isNull().alias(\"isNull\")).groupBy(\"isNull\").count().show()\n",
        "\n",
        "# Count missing values for 'BuildingValue'\n",
        "df.select(col(\"BuildingValue\").isNull().alias(\"isNull\")).groupBy(\"isNull\").count().show()\n",
        "\n",
        "# Count missing values for 'LandValue'\n",
        "df.select(col(\"LandValue\").isNull().alias(\"isNull\")).groupBy(\"isNull\").count().show()\n",
        "\n",
        "# Count missing values for 'TotalValue'\n",
        "df.select(col(\"TotalValue\").isNull().alias(\"isNull\")).groupBy(\"isNull\").count().show()\n"
      ],
      "outputs": [
        {
          "output_type": "display_data",
          "data": {
            "application/vnd.livy.statement-meta+json": {
              "spark_pool": "spark6ojqgxp",
              "statement_id": 43,
              "statement_ids": [
                43
              ],
              "state": "finished",
              "livy_statement_state": "available",
              "spark_jobs": null,
              "session_id": "0",
              "normalized_state": "finished",
              "queued_time": "2024-10-02T14:07:04.7153557Z",
              "session_start_time": null,
              "execution_start_time": "2024-10-02T14:07:08.5064951Z",
              "execution_finish_time": "2024-10-02T14:07:14.3225649Z",
              "parent_msg_id": "5d54088f-9cdc-4f04-9429-73ba01728b6d"
            },
            "text/plain": "StatementMeta(spark6ojqgxp, 0, 43, Finished, Available, Finished)"
          },
          "metadata": {}
        },
        {
          "output_type": "stream",
          "name": "stdout",
          "text": [
            "+------+-----+\n|isNull|count|\n+------+-----+\n| false|56480|\n+------+-----+\n\n+------+-----+\n|isNull|count|\n+------+-----+\n|  true|30468|\n| false|26012|\n+------+-----+\n\n+------+-----+\n|isNull|count|\n+------+-----+\n|  true|30465|\n| false|26015|\n+------+-----+\n\n+------+-----+\n|isNull|count|\n+------+-----+\n|  true|30468|\n| false|26012|\n+------+-----+\n\n"
          ]
        }
      ],
      "execution_count": 42,
      "metadata": {
        "jupyter": {
          "outputs_hidden": false,
          "source_hidden": false
        },
        "nteract": {
          "transient": {
            "deleting": false
          }
        }
      }
    },
    {
      "cell_type": "code",
      "source": [
        "# List all column names\n",
        "print(df.columns)\n"
      ],
      "outputs": [
        {
          "output_type": "display_data",
          "data": {
            "application/vnd.livy.statement-meta+json": {
              "spark_pool": "spark6ojqgxp",
              "statement_id": 44,
              "statement_ids": [
                44
              ],
              "state": "finished",
              "livy_statement_state": "available",
              "spark_jobs": null,
              "session_id": "0",
              "normalized_state": "finished",
              "queued_time": "2024-10-02T14:07:04.9021368Z",
              "session_start_time": null,
              "execution_start_time": "2024-10-02T14:07:14.4882146Z",
              "execution_finish_time": "2024-10-02T14:07:14.6840144Z",
              "parent_msg_id": "86fd6cb0-7e61-4b4a-80d0-fb0bcbea8c46"
            },
            "text/plain": "StatementMeta(spark6ojqgxp, 0, 44, Finished, Available, Finished)"
          },
          "metadata": {}
        },
        {
          "output_type": "stream",
          "name": "stdout",
          "text": [
            "['UniqueID ', 'PropertyAddress', 'LandUse', 'SalePrice', 'SaleDate', 'LandValue', 'BuildingValue', 'TotalValue']\n"
          ]
        }
      ],
      "execution_count": 43,
      "metadata": {
        "jupyter": {
          "outputs_hidden": false,
          "source_hidden": false
        },
        "nteract": {
          "transient": {
            "deleting": false
          }
        }
      }
    },
    {
      "cell_type": "code",
      "source": [],
      "outputs": [],
      "execution_count": null,
      "metadata": {
        "jupyter": {
          "outputs_hidden": false,
          "source_hidden": false
        },
        "nteract": {
          "transient": {
            "deleting": false
          }
        }
      }
    },
    {
      "cell_type": "markdown",
      "source": [
        "# Find Problem for This Data \n",
        "Pros of the Dataset:\n",
        "Large Dataset:\n",
        "\n",
        "With over 56,000 entries, the dataset provides a substantial amount of information, which is useful for statistical analysis and machine learning models.\n",
        "Property Data:\n",
        "\n",
        "The dataset includes key variables like LandValue, BuildingValue, and TotalValue, which are crucial for real estate or property value analysis.\n",
        "Structured Data:\n",
        "\n",
        "The data has clear structure, with identifiable columns that can be used for further analysis like real estate trend analysis, property pricing models, or investment potential evaluation.\n",
        "Land Use Information:\n",
        "\n",
        "The LandUse column offers insight into how the properties are being used, which is useful for urban planning, zoning assessments, or land-use predictions."
      ],
      "metadata": {
        "nteract": {
          "transient": {
            "deleting": false
          }
        }
      }
    },
    {
      "cell_type": "markdown",
      "source": [
        "Challenges and Solutions:\n",
        "1) Missing Values:\n",
        "\n",
        "  Issue: Over 46% of the LandValue, BuildingValue, and TotalValue columns have missing data.\n",
        "\n",
        "  Solution:\n",
        "      1- Imputation: Use statistical methods such as mean, median, or regression to estimate missing values.\n",
        "      \n",
        "      2- Domain-Specific Rules: For real estate, you can potentially estimate missing values based on the                    available LandUse or location (e.g., similar properties in the same area).\n",
        "      3- Remove Rows: If imputation is not feasible, you might consider removing rows with significant missing               data if they constitute a small percentage of the dataset.\n",
        " \n",
        "2) Non-Numeric Data in SalePrice:\n",
        "\n",
        "  Issue: The SalePrice column is stored as a string, which might make it difficult to perform numeric operations.\n",
        "\n",
        "  Solution: Data Cleaning: Convert SalePrice to a numeric type after cleaning the string (e.g., removing currency     symbols, commas).\n",
        "\n",
        "\n",
        "  seldate Column (seldate: 4):\n",
        "  \n",
        "   Issue: There is an seldate column that contains data but no header, which could be a data anomaly or extra data        not necessary for analysis.\n",
        "  \n",
        "  Solution: Review Column Content: Inspect the data within this column. If it doesn’t provide valuable                 information, consider dropping the column entirely.\n",
        "    Rename: If the column does hold useful data, rename it appropriately after determining its content.\n",
        "    Uneven Distribution of LandValue and BuildingValue:\n",
        "\n",
        "\n",
        " Potential Inconsistent Addresses:\n",
        " \n",
        "   Issue: Some entries in PropertyAddress are missing, and there could be potential inconsistencies (e.g.,                   misspellings, formatting issues).\n",
        "   \n",
        "   Solution: \n",
        "   1-  Domain-Specific Rules: For real estate, you can potentially estimate missing values based on the                    available LandUse or location (e.g., similar properties in the same area).\n",
        "   2- Remove Rows: If imputation is not feasible, you might consider removing rows with significant missing               data if they constitute a small percentage of the dataset.\n",
        "   "
      ],
      "metadata": {
        "nteract": {
          "transient": {
            "deleting": false
          }
        }
      }
    },
    {
      "cell_type": "code",
      "source": [
        "building_value_mean = df.agg({\"BuildingValue\": \"mean\"}).collect()[0][0]\n",
        "building_value_mean"
      ],
      "outputs": [
        {
          "output_type": "display_data",
          "data": {
            "application/vnd.livy.statement-meta+json": {
              "spark_pool": "spark6ojqgxp",
              "statement_id": 45,
              "statement_ids": [
                45
              ],
              "state": "finished",
              "livy_statement_state": "available",
              "spark_jobs": null,
              "session_id": "0",
              "normalized_state": "finished",
              "queued_time": "2024-10-02T14:07:05.3510405Z",
              "session_start_time": null,
              "execution_start_time": "2024-10-02T14:07:14.8508235Z",
              "execution_finish_time": "2024-10-02T14:07:15.4565338Z",
              "parent_msg_id": "0b6c00a8-c2d2-45bb-8b16-e3ce81da3c5b"
            },
            "text/plain": "StatementMeta(spark6ojqgxp, 0, 45, Finished, Available, Finished)"
          },
          "metadata": {}
        },
        {
          "output_type": "execute_result",
          "execution_count": 91,
          "data": {
            "text/plain": "160801.98658311547"
          },
          "metadata": {}
        }
      ],
      "execution_count": 44,
      "metadata": {
        "jupyter": {
          "outputs_hidden": false,
          "source_hidden": false
        },
        "nteract": {
          "transient": {
            "deleting": false
          }
        }
      }
    },
    {
      "cell_type": "code",
      "source": [
        "land_value_mean = df.agg({\"LandValue\": \"mean\"}).collect()[0][0] \n",
        "land_value_mean"
      ],
      "outputs": [
        {
          "output_type": "display_data",
          "data": {
            "application/vnd.livy.statement-meta+json": {
              "spark_pool": "spark6ojqgxp",
              "statement_id": 46,
              "statement_ids": [
                46
              ],
              "state": "finished",
              "livy_statement_state": "available",
              "spark_jobs": null,
              "session_id": "0",
              "normalized_state": "finished",
              "queued_time": "2024-10-02T14:07:05.5127789Z",
              "session_start_time": null,
              "execution_start_time": "2024-10-02T14:07:15.6260108Z",
              "execution_finish_time": "2024-10-02T14:07:16.2394523Z",
              "parent_msg_id": "1f02d380-8cc2-452f-a7df-b3cf34fb203a"
            },
            "text/plain": "StatementMeta(spark6ojqgxp, 0, 46, Finished, Available, Finished)"
          },
          "metadata": {}
        },
        {
          "output_type": "execute_result",
          "execution_count": 93,
          "data": {
            "text/plain": "69070.49110128771"
          },
          "metadata": {}
        }
      ],
      "execution_count": 45,
      "metadata": {
        "jupyter": {
          "outputs_hidden": false,
          "source_hidden": false
        },
        "nteract": {
          "transient": {
            "deleting": false
          }
        }
      }
    },
    {
      "cell_type": "code",
      "source": [
        "total_value_mean = df.agg({\"TotalValue\": \"mean\"}).collect()[0][0]\n",
        "total_value_mean"
      ],
      "outputs": [
        {
          "output_type": "display_data",
          "data": {
            "application/vnd.livy.statement-meta+json": {
              "spark_pool": "spark6ojqgxp",
              "statement_id": 47,
              "statement_ids": [
                47
              ],
              "state": "finished",
              "livy_statement_state": "available",
              "spark_jobs": null,
              "session_id": "0",
              "normalized_state": "finished",
              "queued_time": "2024-10-02T14:07:06.0040301Z",
              "session_start_time": null,
              "execution_start_time": "2024-10-02T14:07:16.4189332Z",
              "execution_finish_time": "2024-10-02T14:07:17.1204752Z",
              "parent_msg_id": "0f1104fb-ae06-4b72-81d6-970c1a9d9a90"
            },
            "text/plain": "StatementMeta(spark6ojqgxp, 0, 47, Finished, Available, Finished)"
          },
          "metadata": {}
        },
        {
          "output_type": "execute_result",
          "execution_count": 95,
          "data": {
            "text/plain": "232392.33088574503"
          },
          "metadata": {}
        }
      ],
      "execution_count": 46,
      "metadata": {
        "jupyter": {
          "outputs_hidden": false,
          "source_hidden": false
        },
        "nteract": {
          "transient": {
            "deleting": false
          }
        }
      }
    },
    {
      "cell_type": "markdown",
      "source": [
        "##  Solution 1: fill null values of BuildingValue, LandValue, and TotalValue by their mean\n"
      ],
      "metadata": {
        "nteract": {
          "transient": {
            "deleting": false
          }
        }
      }
    },
    {
      "cell_type": "code",
      "source": [
        "\n",
        "\n",
        "# Round the means to 2 decimal places\n",
        "building_value_mean = round(building_value_mean, 2)\n",
        "land_value_mean = round(land_value_mean, 2)\n",
        "total_value_mean = round(total_value_mean, 2)\n",
        "\n",
        "df = df.fillna({\"BuildingValue\": building_value_mean, \n",
        "                                  \"LandValue\": land_value_mean, \n",
        "                                  \"TotalValue\": total_value_mean})\n",
        "    \n",
        "display(df.limit(10))"
      ],
      "outputs": [
        {
          "output_type": "display_data",
          "data": {
            "application/vnd.livy.statement-meta+json": {
              "spark_pool": "spark6ojqgxp",
              "statement_id": 48,
              "statement_ids": [
                48
              ],
              "state": "finished",
              "livy_statement_state": "available",
              "spark_jobs": null,
              "session_id": "0",
              "normalized_state": "finished",
              "queued_time": "2024-10-02T14:07:06.7827217Z",
              "session_start_time": null,
              "execution_start_time": "2024-10-02T14:07:17.27824Z",
              "execution_finish_time": "2024-10-02T14:07:17.876601Z",
              "parent_msg_id": "71fa80a3-9ad6-414b-a366-1d4a1d699438"
            },
            "text/plain": "StatementMeta(spark6ojqgxp, 0, 48, Finished, Available, Finished)"
          },
          "metadata": {}
        },
        {
          "output_type": "display_data",
          "data": {
            "application/vnd.synapse.widget-view+json": {
              "widget_id": "d56cca07-b718-421a-8ac9-1641182b7bf0",
              "widget_type": "Synapse.DataFrame"
            },
            "text/plain": "SynapseWidget(Synapse.DataFrame, d56cca07-b718-421a-8ac9-1641182b7bf0)"
          },
          "metadata": {}
        }
      ],
      "execution_count": 47,
      "metadata": {
        "jupyter": {
          "outputs_hidden": false,
          "source_hidden": false
        },
        "nteract": {
          "transient": {
            "deleting": false
          }
        },
        "collapsed": false
      }
    },
    {
      "cell_type": "code",
      "source": [
        "# Display descriptive statistics for the SalePrice column\n",
        "df.select('SalePrice').describe().show()"
      ],
      "outputs": [
        {
          "output_type": "display_data",
          "data": {
            "application/vnd.livy.statement-meta+json": {
              "spark_pool": "spark6ojqgxp",
              "statement_id": 49,
              "statement_ids": [
                49
              ],
              "state": "finished",
              "livy_statement_state": "available",
              "spark_jobs": null,
              "session_id": "0",
              "normalized_state": "finished",
              "queued_time": "2024-10-02T14:07:07.0458827Z",
              "session_start_time": null,
              "execution_start_time": "2024-10-02T14:07:18.0365965Z",
              "execution_finish_time": "2024-10-02T14:07:18.6917639Z",
              "parent_msg_id": "701077cb-ef02-4f53-a3d7-463de11dec77"
            },
            "text/plain": "StatementMeta(spark6ojqgxp, 0, 49, Finished, Available, Finished)"
          },
          "metadata": {}
        },
        {
          "output_type": "stream",
          "name": "stdout",
          "text": [
            "+-------+------------------+\n|summary|         SalePrice|\n+-------+------------------+\n|  count|             56477|\n|   mean|327231.51446028514|\n| stddev| 929922.0770860187|\n|    min|       $1,124,900 |\n|    max|            999999|\n+-------+------------------+\n\n"
          ]
        }
      ],
      "execution_count": 48,
      "metadata": {
        "jupyter": {
          "outputs_hidden": false,
          "source_hidden": false
        },
        "nteract": {
          "transient": {
            "deleting": false
          }
        }
      }
    },
    {
      "cell_type": "code",
      "source": [
        "##  Solution 1: fill null values of BuildingValue, LandValue, and TotalValue by their mean\n",
        "df.select('BuildingValue').describe().show()"
      ],
      "outputs": [
        {
          "output_type": "display_data",
          "data": {
            "application/vnd.livy.statement-meta+json": {
              "spark_pool": "spark6ojqgxp",
              "statement_id": 50,
              "statement_ids": [
                50
              ],
              "state": "finished",
              "livy_statement_state": "available",
              "spark_jobs": null,
              "session_id": "0",
              "normalized_state": "finished",
              "queued_time": "2024-10-02T14:07:07.1552035Z",
              "session_start_time": null,
              "execution_start_time": "2024-10-02T14:07:18.8636007Z",
              "execution_finish_time": "2024-10-02T14:07:19.4497528Z",
              "parent_msg_id": "01d3df0a-6df5-4eb6-9ff2-c4f05ae6adc1"
            },
            "text/plain": "StatementMeta(spark6ojqgxp, 0, 50, Finished, Available, Finished)"
          },
          "metadata": {}
        },
        {
          "output_type": "stream",
          "name": "stdout",
          "text": [
            "+-------+------------------+\n|summary|     BuildingValue|\n+-------+------------------+\n|  count|             56480|\n|   mean|160801.98842626665|\n| stddev| 140345.0086866344|\n|    min|                 0|\n|    max|            999400|\n+-------+------------------+\n\n"
          ]
        }
      ],
      "execution_count": 49,
      "metadata": {
        "jupyter": {
          "outputs_hidden": false,
          "source_hidden": false
        },
        "nteract": {
          "transient": {
            "deleting": false
          }
        }
      }
    },
    {
      "cell_type": "code",
      "source": [
        "df.select('TotalValue').describe().show()"
      ],
      "outputs": [
        {
          "output_type": "display_data",
          "data": {
            "application/vnd.livy.statement-meta+json": {
              "spark_pool": "spark6ojqgxp",
              "statement_id": 51,
              "statement_ids": [
                51
              ],
              "state": "finished",
              "livy_statement_state": "available",
              "spark_jobs": null,
              "session_id": "0",
              "normalized_state": "finished",
              "queued_time": "2024-10-02T14:07:07.2999068Z",
              "session_start_time": null,
              "execution_start_time": "2024-10-02T14:07:19.6142759Z",
              "execution_finish_time": "2024-10-02T14:07:20.3234348Z",
              "parent_msg_id": "2decffb7-7346-4dc3-8ccd-1ce8999d2127"
            },
            "text/plain": "StatementMeta(spark6ojqgxp, 0, 51, Finished, Available, Finished)"
          },
          "metadata": {}
        },
        {
          "output_type": "stream",
          "name": "stdout",
          "text": [
            "+-------+------------------+\n|summary|        TotalValue|\n+-------+------------------+\n|  count|             56480|\n|   mean|232392.33040790205|\n| stddev| 190747.0310694506|\n|    min|               100|\n|    max|            999600|\n+-------+------------------+\n\n"
          ]
        }
      ],
      "execution_count": 50,
      "metadata": {
        "jupyter": {
          "outputs_hidden": false,
          "source_hidden": false
        },
        "nteract": {
          "transient": {
            "deleting": false
          }
        }
      }
    },
    {
      "cell_type": "code",
      "source": [
        "\n",
        "# Show the first few rows of the dataframe\n",
        "df.show()\n"
      ],
      "outputs": [
        {
          "output_type": "display_data",
          "data": {
            "application/vnd.livy.statement-meta+json": {
              "spark_pool": "spark6ojqgxp",
              "statement_id": 52,
              "statement_ids": [
                52
              ],
              "state": "finished",
              "livy_statement_state": "available",
              "spark_jobs": null,
              "session_id": "0",
              "normalized_state": "finished",
              "queued_time": "2024-10-02T14:07:07.5792365Z",
              "session_start_time": null,
              "execution_start_time": "2024-10-02T14:07:20.4841442Z",
              "execution_finish_time": "2024-10-02T14:07:21.0928841Z",
              "parent_msg_id": "9c1a4bd4-8bd9-4f1c-bfb0-6e014c205a19"
            },
            "text/plain": "StatementMeta(spark6ojqgxp, 0, 52, Finished, Available, Finished)"
          },
          "metadata": {}
        },
        {
          "output_type": "stream",
          "name": "stdout",
          "text": [
            "+---------+--------------------+-----------------+---------+--------------+---------+-------------+----------+\n|UniqueID |     PropertyAddress|          LandUse|SalePrice|      SaleDate|LandValue|BuildingValue|TotalValue|\n+---------+--------------------+-----------------+---------+--------------+---------+-------------+----------+\n|     2045|1808  FOX CHASE D...|    SINGLE FAMILY|   240000| April 9, 2013|    50000|       168200|    235700|\n|    16918|1832  FOX CHASE D...|    SINGLE FAMILY|   366000|     10-Jun-14|    50000|       264100|    319000|\n|    54582|1864 FOX CHASE  D...|    SINGLE FAMILY|   435000|     26-Sep-16|    50000|       216200|    298000|\n|    43070|1853  FOX CHASE D...|    SINGLE FAMILY|   255000|     29-Jan-16|    50000|       147300|    197300|\n|    22714|1829  FOX CHASE D...|    SINGLE FAMILY|   278000|     10-Oct-14|    50000|       152300|    202300|\n|    18367|1821  FOX CHASE D...|    SINGLE FAMILY|   267000|     16-Jul-14|    50000|       190400|    259800|\n|    19804|2005  SADIE LN, G...|    SINGLE FAMILY|   171000|     28-Aug-14|    40000|       137900|    177900|\n|    54583|1917 GRACELAND  D...|    SINGLE FAMILY|   262000|     27-Sep-16|    40000|       157900|    197900|\n|    36500|1428  SPRINGFIELD...|    SINGLE FAMILY|   285000|     14-Aug-15|    45400|       176900|    222300|\n|    19805|1420  SPRINGFIELD...|    SINGLE FAMILY|   340000|     29-Aug-14|    40000|       179600|    219600|\n|    29467|2209  KAYLA DR, G...|    SINGLE FAMILY|   425000|April 14, 2015| 69070.49|    160801.99| 232392.33|\n|    10754|109  BAILEY VIEW ...|    SINGLE FAMILY|   585000|     12-Dec-13| 69070.49|    160801.99| 232392.33|\n|    34751|1900  TINNIN RD, ...|RESIDENTIAL CONDO|   190000|     13-Jul-15| 69070.49|    160801.99| 232392.33|\n|     4512|629  GAYLEMORE DR...|    SINGLE FAMILY|   189900|      7-Jun-13|    40000|       203600|    243600|\n|    16919|633  GAYLEMORE DR...|    SINGLE FAMILY|   157500|     30-Jun-14|    40000|       115400|    155400|\n|    16920|637  GAYLEMORE DR...|    SINGLE FAMILY|   247400|     30-Jun-14|    40000|       180300|    234000|\n|    51967|1976 SADIE  LN, G...|    SINGLE FAMILY|   211500|     15-Jul-16|    40000|       129200|    169200|\n|    28155|644  GAYLEMORE DR...|    SINGLE FAMILY|   185900|     31-Mar-15|    40000|       127400|    167400|\n|     8899|1921  NORMERLE DR...|    SINGLE FAMILY|   349900|     11-Oct-13|    40000|       286500|    346300|\n|     4513|1916  NORMERLE DR...|    SINGLE FAMILY|   192500|     28-Jun-13|    40000|       130400|    170400|\n+---------+--------------------+-----------------+---------+--------------+---------+-------------+----------+\nonly showing top 20 rows\n\n"
          ]
        }
      ],
      "execution_count": 51,
      "metadata": {
        "jupyter": {
          "outputs_hidden": false,
          "source_hidden": false
        },
        "nteract": {
          "transient": {
            "deleting": false
          }
        }
      }
    },
    {
      "cell_type": "code",
      "source": [
        "# Count the number of null values in each column\n",
        "from pyspark.sql.functions import col, sum as sum_\n",
        "\n",
        "df.select([sum_(col(c).isNull().cast(\"int\")).alias(c) for c in df.columns]).show()\n",
        "\n",
        "# Display the schema of the dataframe (info equivalent in PySpark)\n",
        "df.printSchema()"
      ],
      "outputs": [
        {
          "output_type": "display_data",
          "data": {
            "application/vnd.livy.statement-meta+json": {
              "spark_pool": "spark6ojqgxp",
              "statement_id": 53,
              "statement_ids": [
                53
              ],
              "state": "finished",
              "livy_statement_state": "available",
              "spark_jobs": null,
              "session_id": "0",
              "normalized_state": "finished",
              "queued_time": "2024-10-02T14:07:08.0304745Z",
              "session_start_time": null,
              "execution_start_time": "2024-10-02T14:07:21.2620736Z",
              "execution_finish_time": "2024-10-02T14:07:21.8404305Z",
              "parent_msg_id": "595b8b3b-09f4-405e-9f52-e2c52a9bfe5f"
            },
            "text/plain": "StatementMeta(spark6ojqgxp, 0, 53, Finished, Available, Finished)"
          },
          "metadata": {}
        },
        {
          "output_type": "stream",
          "name": "stdout",
          "text": [
            "+---------+---------------+-------+---------+--------+---------+-------------+----------+\n|UniqueID |PropertyAddress|LandUse|SalePrice|SaleDate|LandValue|BuildingValue|TotalValue|\n+---------+---------------+-------+---------+--------+---------+-------------+----------+\n|        0|             29|      0|        3|       3|        0|            0|         0|\n+---------+---------------+-------+---------+--------+---------+-------------+----------+\n\nroot\n |-- UniqueID : string (nullable = true)\n |-- PropertyAddress: string (nullable = true)\n |-- LandUse: string (nullable = true)\n |-- SalePrice: string (nullable = true)\n |-- SaleDate: string (nullable = true)\n |-- LandValue: string (nullable = false)\n |-- BuildingValue: string (nullable = false)\n |-- TotalValue: string (nullable = false)\n\n"
          ]
        }
      ],
      "execution_count": 52,
      "metadata": {
        "jupyter": {
          "outputs_hidden": false,
          "source_hidden": false
        },
        "nteract": {
          "transient": {
            "deleting": false
          }
        }
      }
    },
    {
      "cell_type": "markdown",
      "source": [
        "## Solution 2: Non-Numeric Data in SalePrice\n"
      ],
      "metadata": {
        "nteract": {
          "transient": {
            "deleting": false
          }
        }
      }
    },
    {
      "cell_type": "code",
      "source": [
        "from pyspark.sql.functions import regexp_replace, col\n",
        "\n",
        "# Remove '$' and ',' from SalePrice and cast to float\n",
        "df = df.withColumn(\"SalePrice\", regexp_replace(\"SalePrice\", \"\\\\$\", \"\"))\n",
        "df = df.withColumn(\"SalePrice\", regexp_replace(\"SalePrice\", \",\", \"\").cast(\"float\"))\n",
        "\n",
        "# Sum of SalePrice\n",
        "sale_price_sum = df.agg({\"SalePrice\": \"sum\"}).collect()[0][0]\n",
        "print(f\"Total SalePrice: {sale_price_sum}\")"
      ],
      "outputs": [
        {
          "output_type": "display_data",
          "data": {
            "application/vnd.livy.statement-meta+json": {
              "spark_pool": "spark6ojqgxp",
              "statement_id": 54,
              "statement_ids": [
                54
              ],
              "state": "finished",
              "livy_statement_state": "available",
              "spark_jobs": null,
              "session_id": "0",
              "normalized_state": "finished",
              "queued_time": "2024-10-02T14:07:08.3260081Z",
              "session_start_time": null,
              "execution_start_time": "2024-10-02T14:07:22.0588426Z",
              "execution_finish_time": "2024-10-02T14:07:22.6554114Z",
              "parent_msg_id": "5a881662-bc15-4fe6-9182-c8f055c676eb"
            },
            "text/plain": "StatementMeta(spark6ojqgxp, 0, 54, Finished, Available, Finished)"
          },
          "metadata": {}
        },
        {
          "output_type": "stream",
          "name": "stdout",
          "text": [
            "Total SalePrice: 18479892264.0\n"
          ]
        }
      ],
      "execution_count": 53,
      "metadata": {
        "jupyter": {
          "outputs_hidden": false,
          "source_hidden": false
        },
        "nteract": {
          "transient": {
            "deleting": false
          }
        }
      }
    },
    {
      "cell_type": "code",
      "source": [
        "df.show()"
      ],
      "outputs": [
        {
          "output_type": "display_data",
          "data": {
            "application/vnd.livy.statement-meta+json": {
              "spark_pool": "spark6ojqgxp",
              "statement_id": 55,
              "statement_ids": [
                55
              ],
              "state": "finished",
              "livy_statement_state": "available",
              "spark_jobs": null,
              "session_id": "0",
              "normalized_state": "finished",
              "queued_time": "2024-10-02T14:07:08.4467443Z",
              "session_start_time": null,
              "execution_start_time": "2024-10-02T14:07:22.859232Z",
              "execution_finish_time": "2024-10-02T14:07:23.4819491Z",
              "parent_msg_id": "9148629e-1d5e-4595-a05b-8e5bf1d6f39d"
            },
            "text/plain": "StatementMeta(spark6ojqgxp, 0, 55, Finished, Available, Finished)"
          },
          "metadata": {}
        },
        {
          "output_type": "stream",
          "name": "stdout",
          "text": [
            "+---------+--------------------+-----------------+---------+--------------+---------+-------------+----------+\n|UniqueID |     PropertyAddress|          LandUse|SalePrice|      SaleDate|LandValue|BuildingValue|TotalValue|\n+---------+--------------------+-----------------+---------+--------------+---------+-------------+----------+\n|     2045|1808  FOX CHASE D...|    SINGLE FAMILY| 240000.0| April 9, 2013|    50000|       168200|    235700|\n|    16918|1832  FOX CHASE D...|    SINGLE FAMILY| 366000.0|     10-Jun-14|    50000|       264100|    319000|\n|    54582|1864 FOX CHASE  D...|    SINGLE FAMILY| 435000.0|     26-Sep-16|    50000|       216200|    298000|\n|    43070|1853  FOX CHASE D...|    SINGLE FAMILY| 255000.0|     29-Jan-16|    50000|       147300|    197300|\n|    22714|1829  FOX CHASE D...|    SINGLE FAMILY| 278000.0|     10-Oct-14|    50000|       152300|    202300|\n|    18367|1821  FOX CHASE D...|    SINGLE FAMILY| 267000.0|     16-Jul-14|    50000|       190400|    259800|\n|    19804|2005  SADIE LN, G...|    SINGLE FAMILY| 171000.0|     28-Aug-14|    40000|       137900|    177900|\n|    54583|1917 GRACELAND  D...|    SINGLE FAMILY| 262000.0|     27-Sep-16|    40000|       157900|    197900|\n|    36500|1428  SPRINGFIELD...|    SINGLE FAMILY| 285000.0|     14-Aug-15|    45400|       176900|    222300|\n|    19805|1420  SPRINGFIELD...|    SINGLE FAMILY| 340000.0|     29-Aug-14|    40000|       179600|    219600|\n|    29467|2209  KAYLA DR, G...|    SINGLE FAMILY| 425000.0|April 14, 2015| 69070.49|    160801.99| 232392.33|\n|    10754|109  BAILEY VIEW ...|    SINGLE FAMILY| 585000.0|     12-Dec-13| 69070.49|    160801.99| 232392.33|\n|    34751|1900  TINNIN RD, ...|RESIDENTIAL CONDO| 190000.0|     13-Jul-15| 69070.49|    160801.99| 232392.33|\n|     4512|629  GAYLEMORE DR...|    SINGLE FAMILY| 189900.0|      7-Jun-13|    40000|       203600|    243600|\n|    16919|633  GAYLEMORE DR...|    SINGLE FAMILY| 157500.0|     30-Jun-14|    40000|       115400|    155400|\n|    16920|637  GAYLEMORE DR...|    SINGLE FAMILY| 247400.0|     30-Jun-14|    40000|       180300|    234000|\n|    51967|1976 SADIE  LN, G...|    SINGLE FAMILY| 211500.0|     15-Jul-16|    40000|       129200|    169200|\n|    28155|644  GAYLEMORE DR...|    SINGLE FAMILY| 185900.0|     31-Mar-15|    40000|       127400|    167400|\n|     8899|1921  NORMERLE DR...|    SINGLE FAMILY| 349900.0|     11-Oct-13|    40000|       286500|    346300|\n|     4513|1916  NORMERLE DR...|    SINGLE FAMILY| 192500.0|     28-Jun-13|    40000|       130400|    170400|\n+---------+--------------------+-----------------+---------+--------------+---------+-------------+----------+\nonly showing top 20 rows\n\n"
          ]
        }
      ],
      "execution_count": 54,
      "metadata": {
        "jupyter": {
          "outputs_hidden": false,
          "source_hidden": false
        },
        "nteract": {
          "transient": {
            "deleting": false
          }
        }
      }
    },
    {
      "cell_type": "markdown",
      "source": [
        "## Solution 3: Missing Address Handling"
      ],
      "metadata": {
        "nteract": {
          "transient": {
            "deleting": false
          }
        }
      }
    },
    {
      "cell_type": "code",
      "source": [
        "from pyspark.sql.functions import count\n",
        "\n",
        "# Count missing values in 'PropertyAddress'\n",
        "df.select(col(\"PropertyAddress\").isNull().alias(\"MissingAddress\")).groupBy(\"MissingAddress\").count().show()\n",
        "\n",
        "# Drop rows with any missing values\n",
        "df = df.dropna()\n",
        "\n",
        "# Show DataFrame after dropping missing values\n",
        "df.show()\n"
      ],
      "outputs": [
        {
          "output_type": "display_data",
          "data": {
            "application/vnd.livy.statement-meta+json": {
              "spark_pool": "spark6ojqgxp",
              "statement_id": 56,
              "statement_ids": [
                56
              ],
              "state": "finished",
              "livy_statement_state": "available",
              "spark_jobs": null,
              "session_id": "0",
              "normalized_state": "finished",
              "queued_time": "2024-10-02T14:07:08.6080316Z",
              "session_start_time": null,
              "execution_start_time": "2024-10-02T14:07:23.6494889Z",
              "execution_finish_time": "2024-10-02T14:07:25.6971118Z",
              "parent_msg_id": "438131c8-5975-4bf2-a00f-00760d70768f"
            },
            "text/plain": "StatementMeta(spark6ojqgxp, 0, 56, Finished, Available, Finished)"
          },
          "metadata": {}
        },
        {
          "output_type": "stream",
          "name": "stdout",
          "text": [
            "+--------------+-----+\n|MissingAddress|count|\n+--------------+-----+\n|          true|   29|\n|         false|56451|\n+--------------+-----+\n\n+---------+--------------------+-----------------+---------+--------------+---------+-------------+----------+\n|UniqueID |     PropertyAddress|          LandUse|SalePrice|      SaleDate|LandValue|BuildingValue|TotalValue|\n+---------+--------------------+-----------------+---------+--------------+---------+-------------+----------+\n|     2045|1808  FOX CHASE D...|    SINGLE FAMILY| 240000.0| April 9, 2013|    50000|       168200|    235700|\n|    16918|1832  FOX CHASE D...|    SINGLE FAMILY| 366000.0|     10-Jun-14|    50000|       264100|    319000|\n|    54582|1864 FOX CHASE  D...|    SINGLE FAMILY| 435000.0|     26-Sep-16|    50000|       216200|    298000|\n|    43070|1853  FOX CHASE D...|    SINGLE FAMILY| 255000.0|     29-Jan-16|    50000|       147300|    197300|\n|    22714|1829  FOX CHASE D...|    SINGLE FAMILY| 278000.0|     10-Oct-14|    50000|       152300|    202300|\n|    18367|1821  FOX CHASE D...|    SINGLE FAMILY| 267000.0|     16-Jul-14|    50000|       190400|    259800|\n|    19804|2005  SADIE LN, G...|    SINGLE FAMILY| 171000.0|     28-Aug-14|    40000|       137900|    177900|\n|    54583|1917 GRACELAND  D...|    SINGLE FAMILY| 262000.0|     27-Sep-16|    40000|       157900|    197900|\n|    36500|1428  SPRINGFIELD...|    SINGLE FAMILY| 285000.0|     14-Aug-15|    45400|       176900|    222300|\n|    19805|1420  SPRINGFIELD...|    SINGLE FAMILY| 340000.0|     29-Aug-14|    40000|       179600|    219600|\n|    29467|2209  KAYLA DR, G...|    SINGLE FAMILY| 425000.0|April 14, 2015| 69070.49|    160801.99| 232392.33|\n|    10754|109  BAILEY VIEW ...|    SINGLE FAMILY| 585000.0|     12-Dec-13| 69070.49|    160801.99| 232392.33|\n|    34751|1900  TINNIN RD, ...|RESIDENTIAL CONDO| 190000.0|     13-Jul-15| 69070.49|    160801.99| 232392.33|\n|     4512|629  GAYLEMORE DR...|    SINGLE FAMILY| 189900.0|      7-Jun-13|    40000|       203600|    243600|\n|    16919|633  GAYLEMORE DR...|    SINGLE FAMILY| 157500.0|     30-Jun-14|    40000|       115400|    155400|\n|    16920|637  GAYLEMORE DR...|    SINGLE FAMILY| 247400.0|     30-Jun-14|    40000|       180300|    234000|\n|    51967|1976 SADIE  LN, G...|    SINGLE FAMILY| 211500.0|     15-Jul-16|    40000|       129200|    169200|\n|    28155|644  GAYLEMORE DR...|    SINGLE FAMILY| 185900.0|     31-Mar-15|    40000|       127400|    167400|\n|     8899|1921  NORMERLE DR...|    SINGLE FAMILY| 349900.0|     11-Oct-13|    40000|       286500|    346300|\n|     4513|1916  NORMERLE DR...|    SINGLE FAMILY| 192500.0|     28-Jun-13|    40000|       130400|    170400|\n+---------+--------------------+-----------------+---------+--------------+---------+-------------+----------+\nonly showing top 20 rows\n\n"
          ]
        }
      ],
      "execution_count": 55,
      "metadata": {
        "jupyter": {
          "outputs_hidden": false,
          "source_hidden": false
        },
        "nteract": {
          "transient": {
            "deleting": false
          }
        }
      }
    },
    {
      "cell_type": "code",
      "source": [
        "df.show()"
      ],
      "outputs": [
        {
          "output_type": "display_data",
          "data": {
            "application/vnd.livy.statement-meta+json": {
              "spark_pool": "spark6ojqgxp",
              "statement_id": 57,
              "statement_ids": [
                57
              ],
              "state": "finished",
              "livy_statement_state": "available",
              "spark_jobs": null,
              "session_id": "0",
              "normalized_state": "finished",
              "queued_time": "2024-10-02T14:07:08.743963Z",
              "session_start_time": null,
              "execution_start_time": "2024-10-02T14:07:25.8973805Z",
              "execution_finish_time": "2024-10-02T14:07:26.4865573Z",
              "parent_msg_id": "63541f59-c168-4b2d-942f-dd18353d4c3e"
            },
            "text/plain": "StatementMeta(spark6ojqgxp, 0, 57, Finished, Available, Finished)"
          },
          "metadata": {}
        },
        {
          "output_type": "stream",
          "name": "stdout",
          "text": [
            "+---------+--------------------+-----------------+---------+--------------+---------+-------------+----------+\n|UniqueID |     PropertyAddress|          LandUse|SalePrice|      SaleDate|LandValue|BuildingValue|TotalValue|\n+---------+--------------------+-----------------+---------+--------------+---------+-------------+----------+\n|     2045|1808  FOX CHASE D...|    SINGLE FAMILY| 240000.0| April 9, 2013|    50000|       168200|    235700|\n|    16918|1832  FOX CHASE D...|    SINGLE FAMILY| 366000.0|     10-Jun-14|    50000|       264100|    319000|\n|    54582|1864 FOX CHASE  D...|    SINGLE FAMILY| 435000.0|     26-Sep-16|    50000|       216200|    298000|\n|    43070|1853  FOX CHASE D...|    SINGLE FAMILY| 255000.0|     29-Jan-16|    50000|       147300|    197300|\n|    22714|1829  FOX CHASE D...|    SINGLE FAMILY| 278000.0|     10-Oct-14|    50000|       152300|    202300|\n|    18367|1821  FOX CHASE D...|    SINGLE FAMILY| 267000.0|     16-Jul-14|    50000|       190400|    259800|\n|    19804|2005  SADIE LN, G...|    SINGLE FAMILY| 171000.0|     28-Aug-14|    40000|       137900|    177900|\n|    54583|1917 GRACELAND  D...|    SINGLE FAMILY| 262000.0|     27-Sep-16|    40000|       157900|    197900|\n|    36500|1428  SPRINGFIELD...|    SINGLE FAMILY| 285000.0|     14-Aug-15|    45400|       176900|    222300|\n|    19805|1420  SPRINGFIELD...|    SINGLE FAMILY| 340000.0|     29-Aug-14|    40000|       179600|    219600|\n|    29467|2209  KAYLA DR, G...|    SINGLE FAMILY| 425000.0|April 14, 2015| 69070.49|    160801.99| 232392.33|\n|    10754|109  BAILEY VIEW ...|    SINGLE FAMILY| 585000.0|     12-Dec-13| 69070.49|    160801.99| 232392.33|\n|    34751|1900  TINNIN RD, ...|RESIDENTIAL CONDO| 190000.0|     13-Jul-15| 69070.49|    160801.99| 232392.33|\n|     4512|629  GAYLEMORE DR...|    SINGLE FAMILY| 189900.0|      7-Jun-13|    40000|       203600|    243600|\n|    16919|633  GAYLEMORE DR...|    SINGLE FAMILY| 157500.0|     30-Jun-14|    40000|       115400|    155400|\n|    16920|637  GAYLEMORE DR...|    SINGLE FAMILY| 247400.0|     30-Jun-14|    40000|       180300|    234000|\n|    51967|1976 SADIE  LN, G...|    SINGLE FAMILY| 211500.0|     15-Jul-16|    40000|       129200|    169200|\n|    28155|644  GAYLEMORE DR...|    SINGLE FAMILY| 185900.0|     31-Mar-15|    40000|       127400|    167400|\n|     8899|1921  NORMERLE DR...|    SINGLE FAMILY| 349900.0|     11-Oct-13|    40000|       286500|    346300|\n|     4513|1916  NORMERLE DR...|    SINGLE FAMILY| 192500.0|     28-Jun-13|    40000|       130400|    170400|\n+---------+--------------------+-----------------+---------+--------------+---------+-------------+----------+\nonly showing top 20 rows\n\n"
          ]
        }
      ],
      "execution_count": 56,
      "metadata": {
        "jupyter": {
          "source_hidden": false,
          "outputs_hidden": false
        },
        "nteract": {
          "transient": {
            "deleting": false
          }
        }
      }
    },
    {
      "cell_type": "markdown",
      "source": [
        "## Solution 4: Edit Format of Date in SaleDate\n"
      ],
      "metadata": {
        "nteract": {
          "transient": {
            "deleting": false
          }
        }
      }
    },
    {
      "cell_type": "code",
      "source": [
        "from pyspark.sql import functions as F\n",
        "from pyspark.sql.types import StringType  # Import StringType\n",
        "from datetime import datetime\n",
        "from pyspark.sql import SparkSession\n",
        "\n",
        "# Create a Spark session\n",
        "\n",
        "\n",
        "# Define a UDF to manually handle date conversion for unsupported formats\n",
        "def convert_to_date(date_str):\n",
        "    try:\n",
        "        # Try parsing common formats\n",
        "        return datetime.strptime(date_str, '%d-%b-%y').strftime('%Y-%m-%d')\n",
        "    except ValueError:\n",
        "        try:\n",
        "            return datetime.strptime(date_str, '%B %d, %Y').strftime('%Y-%m-%d')\n",
        "        except ValueError:\n",
        "            return None  # Return None if all parsing fails\n",
        "\n",
        "# Register the UDF in Spark\n",
        "convert_to_date_udf = F.udf(convert_to_date, StringType())\n",
        "\n",
        "# Apply the UDF to the 'SaleDate' column and create a new formatted column\n",
        "df_spark = df.withColumn(\"SaleDateFormatted\", \n",
        "                               F.coalesce(\n",
        "                                   F.to_date(F.col(\"SaleDate\"), 'd-MMM-yy'),\n",
        "                                   F.to_date(F.col(\"SaleDate\"), 'MMMM d, yyyy'),\n",
        "                                   convert_to_date_udf(F.col(\"SaleDate\"))\n",
        "                               ))\n",
        "\n",
        "# Show the result\n",
        "df_spark.show(truncate=False)\n"
      ],
      "outputs": [
        {
          "output_type": "display_data",
          "data": {
            "application/vnd.livy.statement-meta+json": {
              "spark_pool": "spark6ojqgxp",
              "statement_id": 58,
              "statement_ids": [
                58
              ],
              "state": "finished",
              "livy_statement_state": "available",
              "spark_jobs": null,
              "session_id": "0",
              "normalized_state": "finished",
              "queued_time": "2024-10-02T14:07:09.1351328Z",
              "session_start_time": null,
              "execution_start_time": "2024-10-02T14:07:26.6849673Z",
              "execution_finish_time": "2024-10-02T14:07:27.884589Z",
              "parent_msg_id": "1e4b7c89-f473-4ac5-851c-801f34039f4a"
            },
            "text/plain": "StatementMeta(spark6ojqgxp, 0, 58, Finished, Available, Finished)"
          },
          "metadata": {}
        },
        {
          "output_type": "stream",
          "name": "stdout",
          "text": [
            "+---------+-------------------------------------+-----------------+---------+--------------+---------+-------------+----------+-----------------+\n|UniqueID |PropertyAddress                      |LandUse          |SalePrice|SaleDate      |LandValue|BuildingValue|TotalValue|SaleDateFormatted|\n+---------+-------------------------------------+-----------------+---------+--------------+---------+-------------+----------+-----------------+\n|2045     |1808  FOX CHASE DR, GOODLETTSVILLE   |SINGLE FAMILY    |240000.0 |April 9, 2013 |50000    |168200       |235700    |2013-04-09       |\n|16918    |1832  FOX CHASE DR, GOODLETTSVILLE   |SINGLE FAMILY    |366000.0 |10-Jun-14     |50000    |264100       |319000    |2014-06-10       |\n|54582    |1864 FOX CHASE  DR, GOODLETTSVILLE   |SINGLE FAMILY    |435000.0 |26-Sep-16     |50000    |216200       |298000    |2016-09-26       |\n|43070    |1853  FOX CHASE DR, GOODLETTSVILLE   |SINGLE FAMILY    |255000.0 |29-Jan-16     |50000    |147300       |197300    |2016-01-29       |\n|22714    |1829  FOX CHASE DR, GOODLETTSVILLE   |SINGLE FAMILY    |278000.0 |10-Oct-14     |50000    |152300       |202300    |2014-10-10       |\n|18367    |1821  FOX CHASE DR, GOODLETTSVILLE   |SINGLE FAMILY    |267000.0 |16-Jul-14     |50000    |190400       |259800    |2014-07-16       |\n|19804    |2005  SADIE LN, GOODLETTSVILLE       |SINGLE FAMILY    |171000.0 |28-Aug-14     |40000    |137900       |177900    |2014-08-28       |\n|54583    |1917 GRACELAND  DR, GOODLETTSVILLE   |SINGLE FAMILY    |262000.0 |27-Sep-16     |40000    |157900       |197900    |2016-09-27       |\n|36500    |1428  SPRINGFIELD HWY, GOODLETTSVILLE|SINGLE FAMILY    |285000.0 |14-Aug-15     |45400    |176900       |222300    |2015-08-14       |\n|19805    |1420  SPRINGFIELD HWY, GOODLETTSVILLE|SINGLE FAMILY    |340000.0 |29-Aug-14     |40000    |179600       |219600    |2014-08-29       |\n|29467    |2209  KAYLA DR, GOODLETTSVILLE       |SINGLE FAMILY    |425000.0 |April 14, 2015|69070.49 |160801.99    |232392.33 |2015-04-14       |\n|10754    |109  BAILEY VIEW CT, GOODLETTSVILLE  |SINGLE FAMILY    |585000.0 |12-Dec-13     |69070.49 |160801.99    |232392.33 |2013-12-12       |\n|34751    |1900  TINNIN RD, GOODLETTSVILLE      |RESIDENTIAL CONDO|190000.0 |13-Jul-15     |69070.49 |160801.99    |232392.33 |2015-07-13       |\n|4512     |629  GAYLEMORE DR, GOODLETTSVILLE    |SINGLE FAMILY    |189900.0 |7-Jun-13      |40000    |203600       |243600    |2013-06-07       |\n|16919    |633  GAYLEMORE DR, GOODLETTSVILLE    |SINGLE FAMILY    |157500.0 |30-Jun-14     |40000    |115400       |155400    |2014-06-30       |\n|16920    |637  GAYLEMORE DR, GOODLETTSVILLE    |SINGLE FAMILY    |247400.0 |30-Jun-14     |40000    |180300       |234000    |2014-06-30       |\n|51967    |1976 SADIE  LN, GOODLETTSVILLE       |SINGLE FAMILY    |211500.0 |15-Jul-16     |40000    |129200       |169200    |2016-07-15       |\n|28155    |644  GAYLEMORE DR, GOODLETTSVILLE    |SINGLE FAMILY    |185900.0 |31-Mar-15     |40000    |127400       |167400    |2015-03-31       |\n|8899     |1921  NORMERLE DR, GOODLETTSVILLE    |SINGLE FAMILY    |349900.0 |11-Oct-13     |40000    |286500       |346300    |2013-10-11       |\n|4513     |1916  NORMERLE DR, GOODLETTSVILLE    |SINGLE FAMILY    |192500.0 |28-Jun-13     |40000    |130400       |170400    |2013-06-28       |\n+---------+-------------------------------------+-----------------+---------+--------------+---------+-------------+----------+-----------------+\nonly showing top 20 rows\n\n"
          ]
        }
      ],
      "execution_count": 57,
      "metadata": {
        "jupyter": {
          "outputs_hidden": false,
          "source_hidden": false
        },
        "nteract": {
          "transient": {
            "deleting": false
          }
        }
      }
    },
    {
      "cell_type": "code",
      "source": [
        "df.show()"
      ],
      "outputs": [
        {
          "output_type": "display_data",
          "data": {
            "application/vnd.livy.statement-meta+json": {
              "spark_pool": "spark6ojqgxp",
              "statement_id": 59,
              "statement_ids": [
                59
              ],
              "state": "finished",
              "livy_statement_state": "available",
              "spark_jobs": null,
              "session_id": "0",
              "normalized_state": "finished",
              "queued_time": "2024-10-02T14:07:09.5533618Z",
              "session_start_time": null,
              "execution_start_time": "2024-10-02T14:07:28.0501152Z",
              "execution_finish_time": "2024-10-02T14:07:28.7341475Z",
              "parent_msg_id": "df2b3913-03ef-4f19-abb2-b4c561b12c70"
            },
            "text/plain": "StatementMeta(spark6ojqgxp, 0, 59, Finished, Available, Finished)"
          },
          "metadata": {}
        },
        {
          "output_type": "stream",
          "name": "stdout",
          "text": [
            "+---------+--------------------+-----------------+---------+--------------+---------+-------------+----------+\n|UniqueID |     PropertyAddress|          LandUse|SalePrice|      SaleDate|LandValue|BuildingValue|TotalValue|\n+---------+--------------------+-----------------+---------+--------------+---------+-------------+----------+\n|     2045|1808  FOX CHASE D...|    SINGLE FAMILY| 240000.0| April 9, 2013|    50000|       168200|    235700|\n|    16918|1832  FOX CHASE D...|    SINGLE FAMILY| 366000.0|     10-Jun-14|    50000|       264100|    319000|\n|    54582|1864 FOX CHASE  D...|    SINGLE FAMILY| 435000.0|     26-Sep-16|    50000|       216200|    298000|\n|    43070|1853  FOX CHASE D...|    SINGLE FAMILY| 255000.0|     29-Jan-16|    50000|       147300|    197300|\n|    22714|1829  FOX CHASE D...|    SINGLE FAMILY| 278000.0|     10-Oct-14|    50000|       152300|    202300|\n|    18367|1821  FOX CHASE D...|    SINGLE FAMILY| 267000.0|     16-Jul-14|    50000|       190400|    259800|\n|    19804|2005  SADIE LN, G...|    SINGLE FAMILY| 171000.0|     28-Aug-14|    40000|       137900|    177900|\n|    54583|1917 GRACELAND  D...|    SINGLE FAMILY| 262000.0|     27-Sep-16|    40000|       157900|    197900|\n|    36500|1428  SPRINGFIELD...|    SINGLE FAMILY| 285000.0|     14-Aug-15|    45400|       176900|    222300|\n|    19805|1420  SPRINGFIELD...|    SINGLE FAMILY| 340000.0|     29-Aug-14|    40000|       179600|    219600|\n|    29467|2209  KAYLA DR, G...|    SINGLE FAMILY| 425000.0|April 14, 2015| 69070.49|    160801.99| 232392.33|\n|    10754|109  BAILEY VIEW ...|    SINGLE FAMILY| 585000.0|     12-Dec-13| 69070.49|    160801.99| 232392.33|\n|    34751|1900  TINNIN RD, ...|RESIDENTIAL CONDO| 190000.0|     13-Jul-15| 69070.49|    160801.99| 232392.33|\n|     4512|629  GAYLEMORE DR...|    SINGLE FAMILY| 189900.0|      7-Jun-13|    40000|       203600|    243600|\n|    16919|633  GAYLEMORE DR...|    SINGLE FAMILY| 157500.0|     30-Jun-14|    40000|       115400|    155400|\n|    16920|637  GAYLEMORE DR...|    SINGLE FAMILY| 247400.0|     30-Jun-14|    40000|       180300|    234000|\n|    51967|1976 SADIE  LN, G...|    SINGLE FAMILY| 211500.0|     15-Jul-16|    40000|       129200|    169200|\n|    28155|644  GAYLEMORE DR...|    SINGLE FAMILY| 185900.0|     31-Mar-15|    40000|       127400|    167400|\n|     8899|1921  NORMERLE DR...|    SINGLE FAMILY| 349900.0|     11-Oct-13|    40000|       286500|    346300|\n|     4513|1916  NORMERLE DR...|    SINGLE FAMILY| 192500.0|     28-Jun-13|    40000|       130400|    170400|\n+---------+--------------------+-----------------+---------+--------------+---------+-------------+----------+\nonly showing top 20 rows\n\n"
          ]
        }
      ],
      "execution_count": 58,
      "metadata": {
        "jupyter": {
          "source_hidden": false,
          "outputs_hidden": false
        },
        "nteract": {
          "transient": {
            "deleting": false
          }
        }
      }
    },
    {
      "cell_type": "markdown",
      "source": [
        "# save data on data lake"
      ],
      "metadata": {
        "nteract": {
          "transient": {
            "deleting": false
          }
        }
      }
    },
    {
      "cell_type": "code",
      "source": [
        "df.write.csv('realestate/units_clean.csv', header=True, mode='overwrite')"
      ],
      "outputs": [
        {
          "output_type": "display_data",
          "data": {
            "application/vnd.livy.statement-meta+json": {
              "spark_pool": "spark6ojqgxp",
              "statement_id": 60,
              "statement_ids": [
                60
              ],
              "state": "finished",
              "livy_statement_state": "available",
              "spark_jobs": null,
              "session_id": "0",
              "normalized_state": "finished",
              "queued_time": "2024-10-02T14:07:09.8839013Z",
              "session_start_time": null,
              "execution_start_time": "2024-10-02T14:07:28.916019Z",
              "execution_finish_time": "2024-10-02T14:07:31.8716188Z",
              "parent_msg_id": "2a19372f-904b-43a6-89d1-4a347af3f5bf"
            },
            "text/plain": "StatementMeta(spark6ojqgxp, 0, 60, Finished, Available, Finished)"
          },
          "metadata": {}
        }
      ],
      "execution_count": 59,
      "metadata": {
        "jupyter": {
          "outputs_hidden": false,
          "source_hidden": false
        },
        "nteract": {
          "transient": {
            "deleting": false
          }
        }
      }
    },
    {
      "cell_type": "code",
      "source": [],
      "outputs": [],
      "execution_count": null,
      "metadata": {
        "jupyter": {
          "outputs_hidden": false,
          "source_hidden": false
        },
        "nteract": {
          "transient": {
            "deleting": false
          }
        }
      }
    }
  ],
  "metadata": {
    "kernelspec": {
      "name": "synapse_pyspark",
      "language": "Python",
      "display_name": "Synapse PySpark"
    },
    "language_info": {
      "name": "python"
    },
    "kernel_info": {
      "name": "synapse_pyspark"
    },
    "save_output": true,
    "synapse_widget": {
      "version": "0.1",
      "state": {
        "61e70628-a98e-4a21-b180-f30a9c23fec6": {
          "type": "Synapse.DataFrame",
          "sync_state": {
            "table": {
              "rows": [
                {
                  "0": "928",
                  "1": "700  CLOVERBROOK CT, BRENTWOOD",
                  "2": "SINGLE FAMILY",
                  "3": "306250",
                  "4": "1-Mar-13",
                  "5": "68200",
                  "6": "205300",
                  "7": "273500"
                },
                {
                  "0": "23394",
                  "1": "5717  CLOVERWOOD DR, BRENTWOOD",
                  "2": "SINGLE FAMILY",
                  "3": "415000",
                  "4": "18-Nov-14",
                  "5": "67500",
                  "6": "304200",
                  "7": "371700"
                },
                {
                  "0": "52591",
                  "1": "5725 CLOVERWOOD  DR, BRENTWOOD",
                  "2": "SINGLE FAMILY",
                  "3": "555000",
                  "4": "8-Aug-16",
                  "5": "67100",
                  "6": "326400",
                  "7": "424400"
                },
                {
                  "0": "43681",
                  "1": "5720  CLOVERWOOD DR, BRENTWOOD",
                  "2": "SINGLE FAMILY",
                  "3": "525000",
                  "4": "11-Feb-16",
                  "5": "76300",
                  "6": "351300",
                  "7": "457100"
                },
                {
                  "0": "468",
                  "1": "226  JONES PKWY, BRENTWOOD",
                  "2": "VACANT RES LAND",
                  "3": "170000",
                  "4": "14-Feb-13"
                },
                {
                  "0": "32206",
                  "1": "226  JONES PKWY, BRENTWOOD",
                  "2": "SINGLE FAMILY",
                  "3": "980000",
                  "4": "12-Jun-15"
                },
                {
                  "0": "28873",
                  "1": "2201  CUMBERWELL CLOSE, BRENTWOOD",
                  "2": "SINGLE FAMILY",
                  "3": "600000",
                  "4": "April 29, 2015"
                },
                {
                  "0": "24475",
                  "1": "2209  CUMBERWELL CLOSE, BRENTWOOD",
                  "2": "SINGLE FAMILY",
                  "3": "1300000",
                  "4": "18-Dec-14"
                },
                {
                  "0": "1563",
                  "1": "225  JONES PKWY, BRENTWOOD",
                  "2": "VACANT RES LAND",
                  "3": "275000",
                  "4": "April 22, 2013"
                },
                {
                  "0": "46204",
                  "1": "225  JONES PKWY, BRENTWOOD",
                  "2": "VACANT RESIDENTIAL LAND",
                  "3": "285000",
                  "4": "April 15, 2016"
                }
              ],
              "schema": [
                {
                  "key": "0",
                  "name": "UniqueID ",
                  "type": "string"
                },
                {
                  "key": "1",
                  "name": "PropertyAddress",
                  "type": "string"
                },
                {
                  "key": "2",
                  "name": "LandUse",
                  "type": "string"
                },
                {
                  "key": "3",
                  "name": "SalePrice",
                  "type": "string"
                },
                {
                  "key": "4",
                  "name": "SaleDate",
                  "type": "string"
                },
                {
                  "key": "5",
                  "name": "LandValue",
                  "type": "string"
                },
                {
                  "key": "6",
                  "name": "BuildingValue",
                  "type": "string"
                },
                {
                  "key": "7",
                  "name": "TotalValue",
                  "type": "string"
                }
              ],
              "truncated": false
            },
            "isSummary": false,
            "language": "scala"
          },
          "persist_state": {
            "view": {
              "type": "details",
              "tableOptions": {},
              "chartOptions": {
                "chartType": "bar",
                "aggregationType": "count",
                "categoryFieldKeys": [
                  "0"
                ],
                "seriesFieldKeys": [
                  "0"
                ],
                "isStacked": false
              }
            }
          }
        },
        "d56cca07-b718-421a-8ac9-1641182b7bf0": {
          "type": "Synapse.DataFrame",
          "sync_state": {
            "table": {
              "rows": [
                {
                  "0": "2045",
                  "1": "1808  FOX CHASE DR, GOODLETTSVILLE",
                  "2": "SINGLE FAMILY",
                  "3": "240000",
                  "4": "April 9, 2013",
                  "5": "50000",
                  "6": "168200",
                  "7": "235700"
                },
                {
                  "0": "16918",
                  "1": "1832  FOX CHASE DR, GOODLETTSVILLE",
                  "2": "SINGLE FAMILY",
                  "3": "366000",
                  "4": "10-Jun-14",
                  "5": "50000",
                  "6": "264100",
                  "7": "319000"
                },
                {
                  "0": "54582",
                  "1": "1864 FOX CHASE  DR, GOODLETTSVILLE",
                  "2": "SINGLE FAMILY",
                  "3": "435000",
                  "4": "26-Sep-16",
                  "5": "50000",
                  "6": "216200",
                  "7": "298000"
                },
                {
                  "0": "43070",
                  "1": "1853  FOX CHASE DR, GOODLETTSVILLE",
                  "2": "SINGLE FAMILY",
                  "3": "255000",
                  "4": "29-Jan-16",
                  "5": "50000",
                  "6": "147300",
                  "7": "197300"
                },
                {
                  "0": "22714",
                  "1": "1829  FOX CHASE DR, GOODLETTSVILLE",
                  "2": "SINGLE FAMILY",
                  "3": "278000",
                  "4": "10-Oct-14",
                  "5": "50000",
                  "6": "152300",
                  "7": "202300"
                },
                {
                  "0": "18367",
                  "1": "1821  FOX CHASE DR, GOODLETTSVILLE",
                  "2": "SINGLE FAMILY",
                  "3": "267000",
                  "4": "16-Jul-14",
                  "5": "50000",
                  "6": "190400",
                  "7": "259800"
                },
                {
                  "0": "19804",
                  "1": "2005  SADIE LN, GOODLETTSVILLE",
                  "2": "SINGLE FAMILY",
                  "3": "171000",
                  "4": "28-Aug-14",
                  "5": "40000",
                  "6": "137900",
                  "7": "177900"
                },
                {
                  "0": "54583",
                  "1": "1917 GRACELAND  DR, GOODLETTSVILLE",
                  "2": "SINGLE FAMILY",
                  "3": "262000",
                  "4": "27-Sep-16",
                  "5": "40000",
                  "6": "157900",
                  "7": "197900"
                },
                {
                  "0": "36500",
                  "1": "1428  SPRINGFIELD HWY, GOODLETTSVILLE",
                  "2": "SINGLE FAMILY",
                  "3": "285000",
                  "4": "14-Aug-15",
                  "5": "45400",
                  "6": "176900",
                  "7": "222300"
                },
                {
                  "0": "19805",
                  "1": "1420  SPRINGFIELD HWY, GOODLETTSVILLE",
                  "2": "SINGLE FAMILY",
                  "3": "340000",
                  "4": "29-Aug-14",
                  "5": "40000",
                  "6": "179600",
                  "7": "219600"
                }
              ],
              "schema": [
                {
                  "key": "0",
                  "name": "UniqueID ",
                  "type": "string"
                },
                {
                  "key": "1",
                  "name": "PropertyAddress",
                  "type": "string"
                },
                {
                  "key": "2",
                  "name": "LandUse",
                  "type": "string"
                },
                {
                  "key": "3",
                  "name": "SalePrice",
                  "type": "string"
                },
                {
                  "key": "4",
                  "name": "SaleDate",
                  "type": "string"
                },
                {
                  "key": "5",
                  "name": "LandValue",
                  "type": "string"
                },
                {
                  "key": "6",
                  "name": "BuildingValue",
                  "type": "string"
                },
                {
                  "key": "7",
                  "name": "TotalValue",
                  "type": "string"
                }
              ],
              "truncated": false
            },
            "isSummary": false,
            "language": "scala"
          },
          "persist_state": {
            "view": {
              "type": "details",
              "tableOptions": {},
              "chartOptions": {
                "chartType": "bar",
                "aggregationType": "count",
                "categoryFieldKeys": [
                  "0"
                ],
                "seriesFieldKeys": [
                  "0"
                ],
                "isStacked": false
              }
            }
          }
        }
      }
    }
  },
  "nbformat": 4,
  "nbformat_minor": 2
}